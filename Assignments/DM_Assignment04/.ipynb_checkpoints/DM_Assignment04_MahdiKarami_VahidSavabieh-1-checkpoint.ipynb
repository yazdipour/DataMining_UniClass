{
 "cells": [
  {
   "cell_type": "code",
   "execution_count": 4,
   "metadata": {
    "collapsed": false
   },
   "outputs": [],
   "source": [
    "import numpy as np\n",
    "import pandas as pd\n",
    "import sklearn\n",
    "from sklearn import neighbors, svm, tree\n",
    "from sklearn.naive_bayes import MultinomialNB\n",
    "from sklearn.feature_extraction.text import CountVectorizer\n",
    "from sklearn.feature_extraction.text import TfidfTransformer\n",
    "from sklearn.pipeline import Pipeline\n",
    "from sklearn.ensemble import RandomForestClassifier"
   ]
  },
  {
   "cell_type": "markdown",
   "metadata": {},
   "source": [
    "# Answer Of Question 1"
   ]
  },
  {
   "cell_type": "code",
   "execution_count": 21,
   "metadata": {
    "collapsed": false
   },
   "outputs": [
    {
     "name": "stdout",
     "output_type": "stream",
     "text": [
      "ID3 Accuracy : 0.942211055276\n",
      "Decision Tree Gini Accuracy : 0.93216080402\n",
      "Kneighbor Accuracy : 0.954773869347\n",
      "Naive Accuracy : 0.879396984925\n"
     ]
    }
   ],
   "source": [
    "Train_df = pd.read_csv('CancerTrain.txt', sep=',')\n",
    "Test_df = pd.read_csv('CancerTest.txt', sep=',')\n",
    "\n",
    "Test_df.columns = Train_df.columns = ['ID', 'Clump_thickness', 'Unif_size', 'Unif_shape',\n",
    "'Marginal_adhesion', 'Single_Epith_cellsize', 'Bare_nuclei', 'Bland_chromatin', \n",
    "'Normal_nucleoli', 'Mitoses', 'Class']\n",
    "\n",
    "X_train = Train_df.iloc[:,1:10].values\n",
    "Y_train = Train_df['Class']\n",
    "X_test = Test_df.iloc[:,1:10].values\n",
    "Y_test = Test_df['Class']\n",
    "\n",
    "clf_id3 = tree.DecisionTreeClassifier(criterion=\"entropy\")\n",
    "clf_gini = tree.DecisionTreeClassifier(criterion=\"gini\")\n",
    "clf_kneighbor = neighbors.KNeighborsClassifier()\n",
    "clf_naive = MultinomialNB()\n",
    "\n",
    "clf_id3.fit(X_train, Y_train)\n",
    "clf_gini.fit(X_train, Y_train)\n",
    "clf_kneighbor.fit(X_train, Y_train)\n",
    "clf_naive.fit(X_train, Y_train)\n",
    "\n",
    "accuracy_id3 = clf_id3.score(X_test, Y_test)\n",
    "accuracy_gini = clf_gini.score(X_test, Y_test)\n",
    "accuracy_kneighbor = clf_kneighbor.score(X_test, Y_test)\n",
    "accuracy_naive = clf_naive.score(X_test, Y_test)\n",
    "\n",
    "\n",
    "print(\"ID3 Accuracy : \" + str(accuracy_id3))\n",
    "print(\"Decision Tree Gini Accuracy : \" + str(accuracy_gini))\n",
    "print(\"Kneighbor Accuracy : \" + str(accuracy_kneighbor))\n",
    "print(\"Naive Accuracy : \" + str(accuracy_naive))"
   ]
  },
  {
   "cell_type": "markdown",
   "metadata": {},
   "source": [
    "# Answer Of Question 2"
   ]
  },
  {
   "cell_type": "code",
   "execution_count": 3,
   "metadata": {
    "collapsed": false
   },
   "outputs": [],
   "source": [
    "Topics = pd.read_csv('topics.data', sep =\"\\n\", encoding='latin-1', header=None)\n",
    "open_file = open('training.data').read().split(\"\\n\\n\\n\\n\\n\")\n",
    "article = []\n",
    "data = []\n",
    "for index in open_file : \n",
    "    temp = index.split(\"\\n\\n\\n\")\n",
    "    for news in temp :\n",
    "        article.append(news)\n",
    "for index in article : \n",
    "    temp = index.split(\"\\n\\n\")\n",
    "    data.append(temp)\n",
    "    \n",
    "train_df = pd.DataFrame(data)\n",
    "del train_df[4]\n",
    "train_df.columns = [\"Topic\",\"Subject\",\"Time\",\"Text\"]"
   ]
  },
  {
   "cell_type": "code",
   "execution_count": 4,
   "metadata": {
    "collapsed": false
   },
   "outputs": [],
   "source": [
    "test_file = open('test.data').read().split(\"\\n\\n\\n\\n\\n\")\n",
    "test_article = []\n",
    "test_data = []\n",
    "for index in test_file : \n",
    "    temp = index.split(\"\\n\\n\\n\")\n",
    "    for news in temp :\n",
    "        test_article.append(news)\n",
    "for index in test_article : \n",
    "    temp = index.split(\"\\n\\n\")\n",
    "    test_data.append(temp)\n",
    "    \n",
    "test_df = pd.DataFrame(test_data)\n",
    "del test_df[4]\n",
    "test_df.columns = [\"Topic\",\"Subject\",\"Time\",\"Text\"]"
   ]
  },
  {
   "cell_type": "code",
   "execution_count": 5,
   "metadata": {
    "collapsed": false
   },
   "outputs": [
    {
     "name": "stdout",
     "output_type": "stream",
     "text": [
      "Hamming n=1 accuracy : 0.622472783826\n",
      "Hamming n=3 accuracy : 0.585147744946\n",
      "Hamming n=5 accuracy : 0.622083981337\n"
     ]
    }
   ],
   "source": [
    "train_df.fillna(value=\"empty\", inplace=True)\n",
    "test_df.fillna(value=\"empty\", inplace=True)\n",
    "\n",
    "#count vectorizer learn all vocabulary since binary is true it will calculate the hamming vector if that word exist 1 if not 0\n",
    "\n",
    "Hamming_clf_1 = Pipeline([('vect', CountVectorizer(binary=True)),                     \n",
    "                          ('clf', neighbors.KNeighborsClassifier(n_neighbors = 1))])\n",
    "\n",
    "Hamming_clf_3 = Pipeline([('vect', CountVectorizer(binary=True)),                     \n",
    "                          ('clf', neighbors.KNeighborsClassifier(n_neighbors = 3))])\n",
    "\n",
    "Hamming_clf_5 = Pipeline([('vect', CountVectorizer(binary=True)),                     \n",
    "                          ('clf', neighbors.KNeighborsClassifier(n_neighbors = 5))])\n",
    "\n",
    "Hamming_clf_1.fit(train_df['Text'].values,train_df['Topic'].values)\n",
    "Hamming_clf_3.fit(train_df['Text'].values,train_df['Topic'].values)\n",
    "Hamming_clf_5.fit(train_df['Text'].values,train_df['Topic'].values)\n",
    "\n",
    "print(\"Hamming n=1 accuracy : \" + str(Hamming_clf_1.score(test_df['Text'].values,test_df['Topic'].values)))\n",
    "print(\"Hamming n=3 accuracy : \" + str(Hamming_clf_3.score(test_df['Text'].values,test_df['Topic'].values)))\n",
    "print(\"Hamming n=5 accuracy : \" + str(Hamming_clf_5.score(test_df['Text'].values,test_df['Topic'].values)))"
   ]
  },
  {
   "cell_type": "code",
   "execution_count": 6,
   "metadata": {
    "collapsed": false
   },
   "outputs": [
    {
     "name": "stdout",
     "output_type": "stream",
     "text": [
      "Euclidean n=1 accuracy : 0.720839813375\n",
      "Euclidean n=3 accuracy : 0.703732503888\n",
      "Euclidean n=5 accuracy : 0.727449455677\n"
     ]
    }
   ],
   "source": [
    "#since binary is false it will calculate how many times that word exist\n",
    "Euclidean_clf_1 = Pipeline([('vect', CountVectorizer()),                     \n",
    "                            ('clf', neighbors.KNeighborsClassifier(n_neighbors = 1))])\n",
    "\n",
    "Euclidean_clf_3 = Pipeline([('vect', CountVectorizer()),                     \n",
    "                            ('clf', neighbors.KNeighborsClassifier(n_neighbors = 3))])\n",
    "\n",
    "Euclidean_clf_5 = Pipeline([('vect', CountVectorizer()),                     \n",
    "                            ('clf', neighbors.KNeighborsClassifier(n_neighbors = 5))])\n",
    "\n",
    "Euclidean_clf_1.fit(train_df['Text'].values,train_df['Topic'].values)\n",
    "Euclidean_clf_3.fit(train_df['Text'].values,train_df['Topic'].values)\n",
    "Euclidean_clf_5.fit(train_df['Text'].values,train_df['Topic'].values)\n",
    "\n",
    "print(\"Euclidean n=1 accuracy : \" + str(Euclidean_clf_1.score(test_df['Text'].values,test_df['Topic'].values)))\n",
    "print(\"Euclidean n=3 accuracy : \" + str(Euclidean_clf_3.score(test_df['Text'].values,test_df['Topic'].values)))\n",
    "print(\"Euclidean n=5 accuracy : \" + str(Euclidean_clf_5.score(test_df['Text'].values,test_df['Topic'].values)))"
   ]
  },
  {
   "cell_type": "code",
   "execution_count": 7,
   "metadata": {
    "collapsed": false
   },
   "outputs": [
    {
     "name": "stdout",
     "output_type": "stream",
     "text": [
      "tfidf n=1 accuracy : 0.767496111975\n",
      "tfidf n=3 accuracy : 0.791213063764\n",
      "tfidf n=5 accuracy : 0.802099533437\n"
     ]
    }
   ],
   "source": [
    "# this pipe line first generate count vector then send to calculate tfidf similarity then fit neighbor model on it\n",
    "tfidf_clf_1 = Pipeline([('vect', CountVectorizer()),\n",
    "                        ('tfidf', TfidfTransformer()),\n",
    "                        ('clf', neighbors.KNeighborsClassifier(n_neighbors = 1))])\n",
    "tfidf_clf_3 = Pipeline([('vect', CountVectorizer()),\n",
    "                        ('tfidf', TfidfTransformer()),\n",
    "                        ('clf', neighbors.KNeighborsClassifier(n_neighbors = 3))])\n",
    "tfidf_clf_5 = Pipeline([('vect', CountVectorizer()),\n",
    "                        ('tfidf', TfidfTransformer()),\n",
    "                        ('clf', neighbors.KNeighborsClassifier(n_neighbors = 5))])\n",
    "\n",
    "tfidf_clf_1.fit(train_df['Text'].values,train_df['Topic'].values)\n",
    "tfidf_clf_3.fit(train_df['Text'].values,train_df['Topic'].values)\n",
    "tfidf_clf_5.fit(train_df['Text'].values,train_df['Topic'].values)\n",
    "\n",
    "print(\"tfidf n=1 accuracy : \" + str(tfidf_clf_1.score(test_df['Text'].values,test_df['Topic'].values)))\n",
    "print(\"tfidf n=3 accuracy : \" + str(tfidf_clf_3.score(test_df['Text'].values,test_df['Topic'].values)))\n",
    "print(\"tfidf n=5 accuracy : \" + str(tfidf_clf_5.score(test_df['Text'].values,test_df['Topic'].values)))"
   ]
  },
  {
   "cell_type": "code",
   "execution_count": null,
   "metadata": {
    "collapsed": true
   },
   "outputs": [],
   "source": []
  }
 ],
 "metadata": {
  "kernelspec": {
   "display_name": "Python 2",
   "language": "python",
   "name": "python2"
  },
  "language_info": {
   "codemirror_mode": {
    "name": "ipython",
    "version": 2
   },
   "file_extension": ".py",
   "mimetype": "text/x-python",
   "name": "python",
   "nbconvert_exporter": "python",
   "pygments_lexer": "ipython2",
   "version": "2.7.13"
  }
 },
 "nbformat": 4,
 "nbformat_minor": 2
}
