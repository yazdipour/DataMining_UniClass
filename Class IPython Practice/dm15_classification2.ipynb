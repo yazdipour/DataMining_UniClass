{
 "cells": [
  {
   "cell_type": "markdown",
   "metadata": {},
   "source": [
    "# Decision Trees\n",
    "source: http://dataaspirant.com/2017/02/01/decision-tree-algorithm-python-with-scikit-learn/"
   ]
  },
  {
   "cell_type": "markdown",
   "metadata": {},
   "source": [
    "#### Mushroom database\n",
    "\n",
    "Download data from: http://archive.ics.uci.edu/ml/datasets/Mushroom\n",
    "\n",
    "- Relevant Information:\n",
    "    This data set includes descriptions of hypothetical samples\n",
    "    corresponding to 23 species of gilled mushrooms in the Agaricus and\n",
    "    Lepiota Family (pp. 500-525).  Each species is identified as\n",
    "    definitely edible, definitely poisonous, or of unknown edibility and\n",
    "    not recommended.  This latter class was combined with the poisonous\n",
    "    one.  The Guide clearly states that there is no simple rule for\n",
    "    determining the edibility of a mushroom; no rule like \"leaflets\n",
    "    three, let it be\" for Poisonous Oak and Ivy.\n",
    "\n",
    "- Number of Instances: 8124\n",
    "\n",
    "- Number of Attributes: 22 (all nominally valued)\n",
    "\n",
    "- Attribute Information: (classes: edible=e, poisonous=p)\n",
    "     1. cap-shape:                bell=b,conical=c,convex=x,flat=f,                                               knobbed=k,sunken=s\n",
    "     2. cap-surface:              fibrous=f,grooves=g,scaly=y,smooth=s\n",
    "     3. cap-color:                brown=n,buff=b,cinnamon=c,gray=g,green=r,                                       pink=p,purple=u,red=e,white=w,yellow=y\n",
    "     4. bruises?:                 bruises=t,no=f\n",
    "     5. odor:                     almond=a,anise=l,creosote=c,fishy=y,foul=f,                                     musty=m,none=n,pungent=p,spicy=s\n",
    "     6. gill-attachment:          attached=a,descending=d,free=f,notched=n\n",
    "     7. gill-spacing:             close=c,crowded=w,distant=d\n",
    "     8. gill-size:                broad=b,narrow=n\n",
    "     9. gill-color:               black=k,brown=n,buff=b,chocolate=h,gray=g,                                       green=r,orange=o,pink=p,purple=u,red=e,                                         white=w,yellow=y\n",
    "     10. stalk-shape:              enlarging=e,tapering=t\n",
    "     11. stalk-root:               bulbous=b,club=c,cup=u,equal=e,                                                 rhizomorphs=z,rooted=r,missing=?\n",
    "     12. stalk-surface-above-ring: fibrous=f,scaly=y,silky=k,smooth=s\n",
    "     13. stalk-surface-below-ring: fibrous=f,scaly=y,silky=k,smooth=s\n",
    "     14. stalk-color-above-ring:   brown=n,buff=b,cinnamon=c,gray=g,orange=o,                                       pink=p,red=e,white=w,yellow=y\n",
    "     15. stalk-color-below-ring:   brown=n,buff=b,cinnamon=c,gray=g,orange=o,                                       pink=p,red=e,white=w,yellow=y\n",
    "     16. veil-type:                partial=p,universal=u\n",
    "     17. veil-color:               brown=n,orange=o,white=w,yellow=y\n",
    "     18. ring-number:              none=n,one=o,two=t\n",
    "     19. ring-type:                cobwebby=c,evanescent=e,flaring=f,large=l,                                       none=n,pendant=p,sheathing=s,zone=z\n",
    "     20. spore-print-color:        black=k,brown=n,buff=b,chocolate=h,green=r,                                     orange=o,purple=u,white=w,yellow=y\n",
    "     21. population:               abundant=a,clustered=c,numerous=n,                                               scattered=s,several=v,solitary=y\n",
    "     22. habitat:                  grasses=g,leaves=l,meadows=m,paths=p,                                           urban=u,waste=w,woods=d\n",
    "     \n",
    "\n",
    "- Missing Attribute Values: 2480 of them (denoted by \"?\"), all for\n",
    "   attribute #11.\n",
    "\n",
    "- Class Distribution: \n",
    "    --    edible: 4208 (51.8%)\n",
    "    -- poisonous: 3916 (48.2%)\n",
    "    --     total: 8124 instances"
   ]
  },
  {
   "cell_type": "markdown",
   "metadata": {},
   "source": [
    "Download data from http://archive.ics.uci.edu/ml/datasets/Iris\n",
    "\n",
    "Data Set Information:\n",
    "\n",
    "This is perhaps the best known database to be found in the pattern recognition literature. Fisher's paper is a classic in the field and is referenced frequently to this day. (See Duda & Hart, for example.) The data set contains 3 classes of 50 instances each, where each class refers to a type of iris plant. One class is linearly separable from the other 2; the latter are NOT linearly separable from each other. \n",
    "Predicted attribute: class of iris plant\n",
    "\n",
    "\n",
    "Attribute Information:\n",
    "\n",
    "1. sepal length in cm \n",
    "2. sepal width in cm \n",
    "3. petal length in cm \n",
    "4. petal width in cm \n",
    "5. class: \n",
    "-- Iris Setosa \n",
    "-- Iris Versicolour \n",
    "-- Iris Virginica"
   ]
  },
  {
   "cell_type": "code",
   "execution_count": 49,
   "metadata": {
    "collapsed": false
   },
   "outputs": [],
   "source": [
    "import numpy as np\n",
    "import pandas as pd\n",
    "from sklearn.cross_validation import train_test_split, KFold\n",
    "from sklearn.tree import DecisionTreeClassifier, export_graphviz\n",
    "from sklearn.metrics import accuracy_score\n",
    "from sklearn import tree"
   ]
  },
  {
   "cell_type": "code",
   "execution_count": 50,
   "metadata": {
    "collapsed": false
   },
   "outputs": [],
   "source": [
    "# data = pd.read_csv(\"./iris.data\", sep= ',', header= None,index_col=False)\n",
    "from sklearn import datasets\n",
    "names = ['sepLen', 'sepWid', 'petLen', 'petWid', 'class']\n",
    "iris=datasets.load_iris()\n",
    "data = pd.DataFrame(iris.data,columns=names[:4])\n",
    "data[names[4]] = pd.Series(iris.target)"
   ]
  },
  {
   "cell_type": "code",
   "execution_count": 51,
   "metadata": {
    "collapsed": false
   },
   "outputs": [
    {
     "name": "stdout",
     "output_type": "stream",
     "text": [
      "('Dataset Lenght:: ', 150)\n",
      "('Dataset Shape:: ', (150, 5))\n"
     ]
    }
   ],
   "source": [
    "print(\"Dataset Lenght:: \", len(data))\n",
    "print(\"Dataset Shape:: \", data.shape)"
   ]
  },
  {
   "cell_type": "code",
   "execution_count": 52,
   "metadata": {
    "collapsed": false
   },
   "outputs": [
    {
     "data": {
      "text/html": [
       "<div>\n",
       "<table border=\"1\" class=\"dataframe\">\n",
       "  <thead>\n",
       "    <tr style=\"text-align: right;\">\n",
       "      <th></th>\n",
       "      <th>sepLen</th>\n",
       "      <th>sepWid</th>\n",
       "      <th>petLen</th>\n",
       "      <th>petWid</th>\n",
       "      <th>class</th>\n",
       "    </tr>\n",
       "  </thead>\n",
       "  <tbody>\n",
       "    <tr>\n",
       "      <th>0</th>\n",
       "      <td>5.1</td>\n",
       "      <td>3.5</td>\n",
       "      <td>1.4</td>\n",
       "      <td>0.2</td>\n",
       "      <td>0</td>\n",
       "    </tr>\n",
       "    <tr>\n",
       "      <th>1</th>\n",
       "      <td>4.9</td>\n",
       "      <td>3.0</td>\n",
       "      <td>1.4</td>\n",
       "      <td>0.2</td>\n",
       "      <td>0</td>\n",
       "    </tr>\n",
       "    <tr>\n",
       "      <th>2</th>\n",
       "      <td>4.7</td>\n",
       "      <td>3.2</td>\n",
       "      <td>1.3</td>\n",
       "      <td>0.2</td>\n",
       "      <td>0</td>\n",
       "    </tr>\n",
       "    <tr>\n",
       "      <th>3</th>\n",
       "      <td>4.6</td>\n",
       "      <td>3.1</td>\n",
       "      <td>1.5</td>\n",
       "      <td>0.2</td>\n",
       "      <td>0</td>\n",
       "    </tr>\n",
       "    <tr>\n",
       "      <th>4</th>\n",
       "      <td>5.0</td>\n",
       "      <td>3.6</td>\n",
       "      <td>1.4</td>\n",
       "      <td>0.2</td>\n",
       "      <td>0</td>\n",
       "    </tr>\n",
       "  </tbody>\n",
       "</table>\n",
       "</div>"
      ],
      "text/plain": [
       "   sepLen  sepWid  petLen  petWid  class\n",
       "0     5.1     3.5     1.4     0.2      0\n",
       "1     4.9     3.0     1.4     0.2      0\n",
       "2     4.7     3.2     1.3     0.2      0\n",
       "3     4.6     3.1     1.5     0.2      0\n",
       "4     5.0     3.6     1.4     0.2      0"
      ]
     },
     "execution_count": 52,
     "metadata": {},
     "output_type": "execute_result"
    }
   ],
   "source": [
    "data.head()"
   ]
  },
  {
   "cell_type": "code",
   "execution_count": 53,
   "metadata": {
    "collapsed": false
   },
   "outputs": [
    {
     "data": {
      "text/plain": [
       "array([0, 1, 2], dtype=int64)"
      ]
     },
     "execution_count": 53,
     "metadata": {},
     "output_type": "execute_result"
    }
   ],
   "source": [
    "data[\"class\"].unique()"
   ]
  },
  {
   "cell_type": "markdown",
   "metadata": {},
   "source": [
    "0 for 'Iris-setosa', 1 for 'Iris-versicolor', 2 for 'Iris-virginica'"
   ]
  },
  {
   "cell_type": "code",
   "execution_count": 54,
   "metadata": {
    "collapsed": false
   },
   "outputs": [
    {
     "data": {
      "text/plain": [
       "sepLen    False\n",
       "sepWid    False\n",
       "petLen    False\n",
       "petWid    False\n",
       "class     False\n",
       "dtype: bool"
      ]
     },
     "execution_count": 54,
     "metadata": {},
     "output_type": "execute_result"
    }
   ],
   "source": [
    "data.isnull().any() # No missing value in columns"
   ]
  },
  {
   "cell_type": "code",
   "execution_count": 55,
   "metadata": {
    "collapsed": false
   },
   "outputs": [],
   "source": [
    "X = data.iloc[:,:4]\n",
    "Y = data.iloc[:, 4]"
   ]
  },
  {
   "cell_type": "code",
   "execution_count": 56,
   "metadata": {
    "collapsed": false
   },
   "outputs": [
    {
     "data": {
      "text/html": [
       "<div>\n",
       "<table border=\"1\" class=\"dataframe\">\n",
       "  <thead>\n",
       "    <tr style=\"text-align: right;\">\n",
       "      <th></th>\n",
       "      <th>sepLen</th>\n",
       "      <th>sepWid</th>\n",
       "      <th>petLen</th>\n",
       "      <th>petWid</th>\n",
       "    </tr>\n",
       "  </thead>\n",
       "  <tbody>\n",
       "    <tr>\n",
       "      <th>0</th>\n",
       "      <td>5.1</td>\n",
       "      <td>3.5</td>\n",
       "      <td>1.4</td>\n",
       "      <td>0.2</td>\n",
       "    </tr>\n",
       "    <tr>\n",
       "      <th>1</th>\n",
       "      <td>4.9</td>\n",
       "      <td>3.0</td>\n",
       "      <td>1.4</td>\n",
       "      <td>0.2</td>\n",
       "    </tr>\n",
       "  </tbody>\n",
       "</table>\n",
       "</div>"
      ],
      "text/plain": [
       "   sepLen  sepWid  petLen  petWid\n",
       "0     5.1     3.5     1.4     0.2\n",
       "1     4.9     3.0     1.4     0.2"
      ]
     },
     "execution_count": 56,
     "metadata": {},
     "output_type": "execute_result"
    }
   ],
   "source": [
    "X.head(2)"
   ]
  },
  {
   "cell_type": "code",
   "execution_count": 57,
   "metadata": {
    "collapsed": true
   },
   "outputs": [],
   "source": [
    "X_train, X_test, y_train, y_test = train_test_split( X, Y, test_size = 0.3, random_state = 100)"
   ]
  },
  {
   "cell_type": "code",
   "execution_count": 58,
   "metadata": {
    "collapsed": false
   },
   "outputs": [
    {
     "data": {
      "text/plain": [
       "(105, 4)"
      ]
     },
     "execution_count": 58,
     "metadata": {},
     "output_type": "execute_result"
    }
   ],
   "source": [
    "X_train.shape"
   ]
  },
  {
   "cell_type": "markdown",
   "metadata": {},
   "source": [
    "#### DecisionTreeClassifier(): \n",
    "This is the classifier function for DecisionTree. It is the main function for implementing the algorithms. Some important parameters are:\n",
    "\n",
    "- __criterion__: It defines the function to measure the quality of a split. Sklearn supports “gini” criteria for Gini Index & “entropy” for Information Gain. By default, it takes “gini” value.\n",
    "- __splitter__: It defines the strategy to choose the split at each node. Supports “best” value to choose the best split & “random” to choose the best random split. By default, it takes “best” value.\n",
    "- __max_features__: It defines the no. of features to consider when looking for the best split. We can input integer, float, string & None value. If an integer is inputted then it considers that value as max features at each split. If float value is taken then it shows the percentage of features at each split. If “auto” or “sqrt” is taken then max_features=sqrt(n_features). If “log2” is taken then max_features= log2(n_features). If None, then max_features=n_features. By default, it takes “None” value.\n",
    "- __max_depth__: The max_depth parameter denotes maximum depth of the tree. It can take any integer value or None. If None, then nodes are expanded until all leaves are pure or until all leaves contain less than min_samples_split samples. By default, it takes “None” value.\n",
    "- __min_samples_split__: This tells above the minimum no. of samples reqd. to split an internal node. If an integer value is taken then consider min_samples_split as the minimum no. If float, then it shows percentage. By default, it takes “2” value.\n",
    "- __min_samples_leaf__: The minimum number of samples required to be at a leaf node. If an integer value is taken then consider min_samples_leaf as the minimum no. If float, then it shows percentage. By default, it takes “1” value.\n",
    "- __max_leaf_nodes__: It defines the maximum number of possible leaf nodes. If None then it takes an unlimited number of leaf nodes. By default, it takes “None” value.\n",
    "- __min_impurity_split__: It defines the threshold for early stopping tree growth. A node will split if its impurity is above the threshold otherwise it is a leaf."
   ]
  },
  {
   "cell_type": "code",
   "execution_count": 59,
   "metadata": {
    "collapsed": false
   },
   "outputs": [
    {
     "data": {
      "text/plain": [
       "DecisionTreeClassifier(class_weight=None, criterion='gini', max_depth=3,\n",
       "            max_features=None, max_leaf_nodes=None,\n",
       "            min_impurity_split=1e-07, min_samples_leaf=5,\n",
       "            min_samples_split=2, min_weight_fraction_leaf=0.0,\n",
       "            presort=False, random_state=100, splitter='best')"
      ]
     },
     "execution_count": 59,
     "metadata": {},
     "output_type": "execute_result"
    }
   ],
   "source": [
    "clf_gini = DecisionTreeClassifier(criterion = \"gini\", random_state = 100,\n",
    "                               max_depth=3, min_samples_leaf=5)\n",
    "clf_gini.fit(X_train, y_train)"
   ]
  },
  {
   "cell_type": "code",
   "execution_count": 60,
   "metadata": {
    "collapsed": false
   },
   "outputs": [
    {
     "data": {
      "text/plain": [
       "DecisionTreeClassifier(class_weight=None, criterion='entropy', max_depth=3,\n",
       "            max_features=None, max_leaf_nodes=None,\n",
       "            min_impurity_split=1e-07, min_samples_leaf=5,\n",
       "            min_samples_split=2, min_weight_fraction_leaf=0.0,\n",
       "            presort=False, random_state=100, splitter='best')"
      ]
     },
     "execution_count": 60,
     "metadata": {},
     "output_type": "execute_result"
    }
   ],
   "source": [
    "clf_entropy = DecisionTreeClassifier(criterion = \"entropy\", random_state = 100,\n",
    " max_depth=3, min_samples_leaf=5)\n",
    "clf_entropy.fit(X_train, y_train)"
   ]
  },
  {
   "cell_type": "markdown",
   "metadata": {},
   "source": [
    "#### Prediction\n",
    "\n",
    "Now, we have modeled 2 classifiers. One classifier with gini index & another one with information gain as the criterion. We are ready to predict classes for our test set. We can use predict() method."
   ]
  },
  {
   "cell_type": "code",
   "execution_count": 61,
   "metadata": {
    "collapsed": false
   },
   "outputs": [],
   "source": [
    "y_pred_gini = clf_gini.predict(X_test)\n",
    "#y_pred_gini"
   ]
  },
  {
   "cell_type": "markdown",
   "metadata": {},
   "source": [
    "#### Calculating Accuracy Score\n",
    "\n",
    "The function accuracy_score() will be used to print accuracy of Decision Tree algorithm. By accuracy, we mean the ratio of the correctly predicted data points to all the predicted data points. Accuracy as a metric helps to understand the effectiveness of our algorithm. It takes 4 parameters.\n",
    "\n",
    "- y_true,\n",
    "- y_pred,\n",
    "- normalize,\n",
    "- sample_weight.\n",
    "\n",
    "Out of these 4, normalize & sample_weight are optional parameters. The parameter y_true  accepts an array of correct labels and y_pred takes an array of predicted labels that are returned by the classifier. It returns accuracy as a float value."
   ]
  },
  {
   "cell_type": "code",
   "execution_count": 62,
   "metadata": {
    "collapsed": false
   },
   "outputs": [
    {
     "name": "stdout",
     "output_type": "stream",
     "text": [
      "('Accuracy of Decision Tree classifier with criterion as gini is ', 95.555555555555557)\n"
     ]
    }
   ],
   "source": [
    "print(\"Accuracy of Decision Tree classifier with criterion as gini is \", \n",
    "      accuracy_score(y_test,y_pred_gini)*100)"
   ]
  },
  {
   "cell_type": "code",
   "execution_count": 63,
   "metadata": {
    "collapsed": true
   },
   "outputs": [],
   "source": [
    "y_pred_entropy = clf_gini.predict(X_test)\n",
    "#y_pred_entropy"
   ]
  },
  {
   "cell_type": "code",
   "execution_count": 64,
   "metadata": {
    "collapsed": false
   },
   "outputs": [
    {
     "name": "stdout",
     "output_type": "stream",
     "text": [
      "('Accuracy of Decision Tree classifier with criterion as information gain is ', 95.555555555555557)\n"
     ]
    }
   ],
   "source": [
    "print(\"Accuracy of Decision Tree classifier with criterion as information gain is \", \n",
    "      accuracy_score(y_test,y_pred_entropy)*100)"
   ]
  },
  {
   "cell_type": "markdown",
   "metadata": {},
   "source": [
    "#### Cross Validation"
   ]
  },
  {
   "cell_type": "code",
   "execution_count": 65,
   "metadata": {
    "collapsed": false
   },
   "outputs": [
    {
     "name": "stdout",
     "output_type": "stream",
     "text": [
      "('Total data classified:', 150)\n",
      "('Gini model Score:', 93.333333333333329)\n",
      "('Entropy modeel Score:', 94.666666666666671)\n"
     ]
    }
   ],
   "source": [
    "k_fold = KFold(n=len(data), n_folds=6)\n",
    "gini_scores = []\n",
    "entropy_scores = []\n",
    "for train_indices, test_indices in k_fold:\n",
    "    X_train = data.iloc[train_indices, :4].values\n",
    "    y_train = data.iloc[train_indices, 4].values\n",
    "\n",
    "    X_test = data.iloc[test_indices, :4].values\n",
    "    y_test = data.iloc[test_indices, 4].values\n",
    "\n",
    "    clf_gini.fit(X_train, y_train)\n",
    "    y_pred_gini = clf_gini.predict(X_test)\n",
    "    gini_scores.append(accuracy_score(y_test,y_pred_gini)*100)\n",
    "    \n",
    "    clf_entropy.fit(X_train, y_train)\n",
    "    y_pred_entropy = clf_entropy.predict(X_test)\n",
    "    entropy_scores.append(accuracy_score(y_test,y_pred_entropy)*100)\n",
    "\n",
    "print('Total data classified:', len(data))\n",
    "print('Gini model Score:', sum(gini_scores)/len(gini_scores))\n",
    "print('Entropy modeel Score:', sum(entropy_scores)/len(entropy_scores))"
   ]
  },
  {
   "cell_type": "markdown",
   "metadata": {},
   "source": [
    "### Visualize the decision tree"
   ]
  },
  {
   "cell_type": "markdown",
   "metadata": {},
   "source": [
    "To visualize, first you need to convert the trained decision tree into a file\n",
    "(txt is better). "
   ]
  },
  {
   "cell_type": "code",
   "execution_count": 66,
   "metadata": {
    "collapsed": false
   },
   "outputs": [
    {
     "data": {
      "image/png": "[encoded data removed]",
      "text/plain": [
       "<IPython.core.display.Image object>"
      ]
     },
     "execution_count": 66,
     "metadata": {},
     "output_type": "execute_result"
    }
   ],
   "source": [
    "import pydotplus \n",
    "from IPython.display import Image \n",
    "dot_data = tree.export_graphviz(clf_gini, out_file=None, \n",
    "                         feature_names=data.columns,  \n",
    "                         class_names=iris.target_names,  \n",
    "                         filled=True, rounded=True,  \n",
    "                         special_characters=True)  \n",
    "graph = pydotplus.graph_from_dot_data(dot_data)  \n",
    "Image(graph.create_png())  "
   ]
  },
  {
   "cell_type": "code",
   "execution_count": null,
   "metadata": {
    "collapsed": true
   },
   "outputs": [],
   "source": []
  }
 ],
 "metadata": {
  "anaconda-cloud": {},
  "kernelspec": {
   "display_name": "Python 2",
   "language": "python",
   "name": "python2"
  },
  "language_info": {
   "codemirror_mode": {
    "name": "ipython",
    "version": 2
   },
   "file_extension": ".py",
   "mimetype": "text/x-python",
   "name": "python",
   "nbconvert_exporter": "python",
   "pygments_lexer": "ipython2",
   "version": "2.7.13"
  }
 },
 "nbformat": 4,
 "nbformat_minor": 1
}
