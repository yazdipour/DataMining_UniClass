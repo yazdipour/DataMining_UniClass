{
 "cells": [
  {
   "cell_type": "markdown",
   "metadata": {},
   "source": [
    "# Mean, Median, Mode, Variance, Percentile and Moment"
   ]
  },
  {
   "cell_type": "markdown",
   "metadata": {},
   "source": [
    "### Mean and Median"
   ]
  },
  {
   "cell_type": "code",
   "execution_count": 1,
   "metadata": {
    "collapsed": false
   },
   "outputs": [
    {
     "data": {
      "text/plain": [
       "26903.863150893139"
      ]
     },
     "execution_count": 1,
     "metadata": {},
     "output_type": "execute_result"
    }
   ],
   "source": [
    "import numpy as np\n",
    "\n",
    "incomes = np.random.normal(27000, 15000, 10000)\n",
    "#numpy.random.normal(loc=0.0, scale=1.0, size=None)\n",
    "#loc : Mean (“centre”) of the distribution\n",
    "#scale : Standard deviation (spread or “width”) of the distribution.\n",
    "#size: samples are drawn.\n",
    "\n",
    "np.mean(incomes)"
   ]
  },
  {
   "cell_type": "code",
   "execution_count": 2,
   "metadata": {
    "collapsed": false
   },
   "outputs": [
    {
     "data": {
      "image/png": "[encoded data removed]",
      "text/plain": [
       "<matplotlib.figure.Figure at 0x4c4f208>"
      ]
     },
     "metadata": {},
     "output_type": "display_data"
    }
   ],
   "source": [
    "import matplotlib.pyplot as plt\n",
    "\n",
    "plt.hist(incomes, 50)\n",
    "plt.show()"
   ]
  },
  {
   "cell_type": "code",
   "execution_count": 3,
   "metadata": {
    "collapsed": false
   },
   "outputs": [
    {
     "data": {
      "text/plain": [
       "26764.377559535053"
      ]
     },
     "execution_count": 3,
     "metadata": {},
     "output_type": "execute_result"
    }
   ],
   "source": [
    "np.median(incomes)"
   ]
  },
  {
   "cell_type": "markdown",
   "metadata": {},
   "source": [
    "### Standard deviation and Variance"
   ]
  },
  {
   "cell_type": "code",
   "execution_count": 11,
   "metadata": {
    "collapsed": false
   },
   "outputs": [
    {
     "data": {
      "text/plain": [
       "9998742.3137291092"
      ]
     },
     "execution_count": 11,
     "metadata": {},
     "output_type": "execute_result"
    }
   ],
   "source": [
    "incomes.std()"
   ]
  },
  {
   "cell_type": "code",
   "execution_count": 5,
   "metadata": {
    "collapsed": false,
    "scrolled": true
   },
   "outputs": [
    {
     "data": {
      "text/plain": [
       "224503474.71972534"
      ]
     },
     "execution_count": 5,
     "metadata": {},
     "output_type": "execute_result"
    }
   ],
   "source": [
    "incomes.var()"
   ]
  },
  {
   "cell_type": "markdown",
   "metadata": {},
   "source": [
    "In the calculation of the variance (of which the standard deviation is the square root) we typically divide by the number of values we have.\n",
    "But if we select a random sample of N elements from a larger distribution and calculate the variance, division by N can lead to an underestimate of the actual variance. To fix this, we can lower the number we divide by (the degrees of freedom) to a number less than N (usually N-1). The ddof parameter allows us change the divisor by the amount we specify.\n",
    "Unless told otherwise, NumPy will calculate the biased estimator for the variance (ddof=0, dividing by N). This is what you want if you are working with the entire distribution (and not a subset of values which have been randomly picked from a larger distribution). If the ddof parameter is given, NumPy divides by N - ddof instead.\n",
    "\n",
    "Population Variance:\n",
    "$$\\sigma^2=\\frac{\\sum{(X-\\mu)}^2}{N}$$\n",
    "\n",
    "Sample Variance:\n",
    "$$s^2=\\frac{\\sum{(X-M)}^2}{N-1}$$"
   ]
  },
  {
   "cell_type": "markdown",
   "metadata": {},
   "source": [
    "### Mean is more sensitive to outliers than Median"
   ]
  },
  {
   "cell_type": "code",
   "execution_count": 6,
   "metadata": {
    "collapsed": true
   },
   "outputs": [],
   "source": [
    "incomes = np.append(incomes, 1000000000)"
   ]
  },
  {
   "cell_type": "code",
   "execution_count": 7,
   "metadata": {
    "collapsed": false
   },
   "outputs": [
    {
     "data": {
      "text/plain": [
       "126891.17403348979"
      ]
     },
     "execution_count": 7,
     "metadata": {},
     "output_type": "execute_result"
    }
   ],
   "source": [
    "np.mean(incomes)"
   ]
  },
  {
   "cell_type": "code",
   "execution_count": 8,
   "metadata": {
    "collapsed": false
   },
   "outputs": [
    {
     "data": {
      "text/plain": [
       "26764.644790841063"
      ]
     },
     "execution_count": 8,
     "metadata": {},
     "output_type": "execute_result"
    }
   ],
   "source": [
    "np.median(incomes)"
   ]
  },
  {
   "cell_type": "markdown",
   "metadata": {},
   "source": [
    "### Mode"
   ]
  },
  {
   "cell_type": "code",
   "execution_count": 9,
   "metadata": {
    "collapsed": false
   },
   "outputs": [
    {
     "data": {
      "text/plain": [
       "array([25, 67, 43, 64, 59, 61, 71, 61, 44, 72, 65, 27, 43, 47, 72, 89, 19,\n",
       "       77, 43, 70, 68, 62, 55, 59, 33, 40, 36, 82, 83, 35, 25, 87, 36, 36,\n",
       "       25, 66, 28, 45, 78, 19, 21, 50, 61, 45, 80, 34, 86, 24, 63, 78, 81,\n",
       "       32, 73, 21, 63, 47, 74, 38, 65, 63, 30, 80, 30, 77, 20, 83, 26, 20,\n",
       "       71, 79, 29, 41, 88, 57, 86, 68, 23, 86, 79, 76, 67, 89, 76, 85, 58,\n",
       "       22, 83, 34, 31, 45, 19, 85, 51, 69, 21, 73, 83, 33, 54, 89, 77, 48,\n",
       "       40, 57, 80, 42, 73, 70, 30, 26, 32, 21, 82, 85, 22, 82, 54, 53, 54,\n",
       "       26, 50, 89, 87, 40, 84, 51, 85, 46, 68, 18, 59, 54, 45, 77, 50, 60,\n",
       "       77, 46, 27, 33, 84, 29, 37, 25, 86, 34, 79, 28, 55, 77, 68, 88, 86,\n",
       "       70, 38, 81, 68, 75, 64, 65, 36, 38, 42, 59, 67, 66, 43, 76, 43, 36,\n",
       "       41, 20, 70, 35, 62, 75, 36, 35, 38, 25, 75, 59, 51, 42, 22, 60, 86,\n",
       "       24, 83, 26, 44, 57, 45, 58, 76, 26, 66, 35, 84, 56, 83, 89, 57, 52,\n",
       "       39, 72, 53, 88, 36, 37, 56, 49, 73, 51, 60, 34, 71, 25, 45, 39, 71,\n",
       "       66, 29, 51, 64, 42, 28, 32, 19, 19, 23, 22, 33, 53, 23, 53, 76, 45,\n",
       "       50, 18, 41, 53, 23, 86, 38, 19, 55, 22, 50, 81, 24, 72, 39, 81, 29,\n",
       "       33, 86, 62, 49, 57, 38, 63, 31, 66, 37, 76, 28, 61, 65, 31, 51, 29,\n",
       "       72, 52, 32, 39, 42, 71, 75, 40, 41, 53, 43, 88, 82, 43, 32, 80, 76,\n",
       "       86, 23, 24, 46, 20, 74, 71, 80, 41, 32, 39, 25, 35, 68, 37, 77, 47,\n",
       "       85, 58, 78, 31, 73, 30, 29, 71, 21, 60, 80, 67, 53, 84, 41, 41, 68,\n",
       "       74, 27, 48, 58, 64, 43, 42, 68, 35, 66, 82, 84, 22, 36, 60, 50, 55,\n",
       "       19, 71, 31, 30, 74, 75, 42, 24, 18, 71, 56, 83, 82, 68, 86, 66, 68,\n",
       "       84, 20, 40, 54, 33, 45, 63, 86, 40, 65, 35, 63, 43, 38, 83, 83, 75,\n",
       "       40, 84, 81, 58, 67, 65, 37, 82, 87, 19, 56, 52, 38, 34, 38, 77, 22,\n",
       "       33, 69, 60, 81, 23, 49, 73, 46, 32, 23, 25, 84, 74, 75, 24, 25, 42,\n",
       "       48, 59, 21, 75, 36, 26, 20, 71, 66, 26, 78, 84, 77, 40, 60, 39, 63,\n",
       "       58, 70, 79, 55, 53, 83, 67, 75, 88, 51, 26, 61, 63, 54, 45, 89, 47,\n",
       "       59, 84, 72, 26, 69, 76, 55, 86, 41, 51, 23, 66, 59, 84, 43, 36, 30,\n",
       "       69, 53, 42, 69, 51, 67, 20, 80, 53, 21, 27, 76, 30, 49, 60, 75, 50,\n",
       "       56, 23, 83, 38, 57, 51, 50, 61, 82, 45, 75, 68, 72, 51, 29, 46, 51,\n",
       "       32, 79, 53, 28, 22, 86, 89])"
      ]
     },
     "execution_count": 9,
     "metadata": {},
     "output_type": "execute_result"
    }
   ],
   "source": [
    "ages = np.random.randint(18, high = 90, size = 500)\n",
    "#numpy.random.randint(low, high=None, size=None, dtype='l')\n",
    "#Return random integers from low (inclusive) to high (exclusive)\n",
    "\n",
    "ages"
   ]
  },
  {
   "cell_type": "code",
   "execution_count": 10,
   "metadata": {
    "collapsed": false
   },
   "outputs": [
    {
     "data": {
      "text/plain": [
       "ModeResult(mode=array([86]), count=array([13]))"
      ]
     },
     "execution_count": 10,
     "metadata": {},
     "output_type": "execute_result"
    }
   ],
   "source": [
    "from scipy import stats\n",
    "stats.mode(ages)"
   ]
  },
  {
   "cell_type": "markdown",
   "metadata": {},
   "source": [
    "### Percentile"
   ]
  },
  {
   "cell_type": "code",
   "execution_count": 20,
   "metadata": {
    "collapsed": false
   },
   "outputs": [
    {
     "data": {
      "text/plain": [
       "501.62623894416714"
      ]
     },
     "execution_count": 20,
     "metadata": {},
     "output_type": "execute_result"
    }
   ],
   "source": [
    "import numpy as np\n",
    "\n",
    "incomes = np.random.normal(500, 100, 10000)\n",
    "\n",
    "np.percentile(incomes, 50)"
   ]
  },
  {
   "cell_type": "code",
   "execution_count": 23,
   "metadata": {
    "collapsed": false
   },
   "outputs": [
    {
     "data": {
      "text/plain": [
       "501.62623894416714"
      ]
     },
     "execution_count": 23,
     "metadata": {},
     "output_type": "execute_result"
    }
   ],
   "source": [
    "np.median(incomes)"
   ]
  },
  {
   "cell_type": "code",
   "execution_count": 36,
   "metadata": {
    "collapsed": false
   },
   "outputs": [
    {
     "data": {
      "text/plain": [
       "99.547856160412522"
      ]
     },
     "execution_count": 36,
     "metadata": {},
     "output_type": "execute_result"
    }
   ],
   "source": [
    "(np.percentile(incomes, 84.3) - np.percentile(incomes, 15.7))/2"
   ]
  },
  {
   "cell_type": "code",
   "execution_count": 25,
   "metadata": {
    "collapsed": false
   },
   "outputs": [
    {
     "data": {
      "text/plain": [
       "99.588060219526255"
      ]
     },
     "execution_count": 25,
     "metadata": {},
     "output_type": "execute_result"
    }
   ],
   "source": [
    "np.std(incomes)"
   ]
  },
  {
   "cell_type": "code",
   "execution_count": 33,
   "metadata": {
    "collapsed": false
   },
   "outputs": [
    {
     "data": {
      "text/plain": [
       "99.501088960670387"
      ]
     },
     "execution_count": 33,
     "metadata": {},
     "output_type": "execute_result"
    }
   ],
   "source": [
    "(np.percentile(incomes, 97.65) - np.percentile(incomes, 2.35))/4"
   ]
  },
  {
   "cell_type": "markdown",
   "metadata": {},
   "source": [
    "## Moments: Mean, Variance, Skew, Kurtosis"
   ]
  },
  {
   "cell_type": "code",
   "execution_count": 38,
   "metadata": {
    "collapsed": false
   },
   "outputs": [
    {
     "data": {
      "image/png": "[encoded data removed]",
      "text/plain": [
       "<matplotlib.figure.Figure at 0x8fd0320>"
      ]
     },
     "metadata": {},
     "output_type": "display_data"
    }
   ],
   "source": [
    "import numpy as np\n",
    "import matplotlib.pyplot as plt\n",
    "\n",
    "values = np.random.normal(0, 0.5, 10000)\n",
    "plt.hist(values, 50)\n",
    "plt.show()"
   ]
  },
  {
   "cell_type": "code",
   "execution_count": 39,
   "metadata": {
    "collapsed": false
   },
   "outputs": [
    {
     "data": {
      "text/plain": [
       "-0.0025049883494329944"
      ]
     },
     "execution_count": 39,
     "metadata": {},
     "output_type": "execute_result"
    }
   ],
   "source": [
    "np.mean(values)"
   ]
  },
  {
   "cell_type": "code",
   "execution_count": 40,
   "metadata": {
    "collapsed": false
   },
   "outputs": [
    {
     "data": {
      "text/plain": [
       "0.25056413489527612"
      ]
     },
     "execution_count": 40,
     "metadata": {},
     "output_type": "execute_result"
    }
   ],
   "source": [
    "np.var(values)"
   ]
  },
  {
   "cell_type": "code",
   "execution_count": 42,
   "metadata": {
    "collapsed": false
   },
   "outputs": [
    {
     "data": {
      "text/plain": [
       "-0.002456064556351541"
      ]
     },
     "execution_count": 42,
     "metadata": {},
     "output_type": "execute_result"
    }
   ],
   "source": [
    "import scipy.stats as sp\n",
    "sp.skew(values)"
   ]
  },
  {
   "cell_type": "code",
   "execution_count": 43,
   "metadata": {
    "collapsed": false
   },
   "outputs": [
    {
     "data": {
      "text/plain": [
       "0.0828684650165421"
      ]
     },
     "execution_count": 43,
     "metadata": {},
     "output_type": "execute_result"
    }
   ],
   "source": [
    "sp.kurtosis(values)"
   ]
  }
 ],
 "metadata": {
  "anaconda-cloud": {},
  "kernelspec": {
   "display_name": "Python [default]",
   "language": "python",
   "name": "python3"
  },
  "language_info": {
   "codemirror_mode": {
    "name": "ipython",
    "version": 3
   },
   "file_extension": ".py",
   "mimetype": "text/x-python",
   "name": "python",
   "nbconvert_exporter": "python",
   "pygments_lexer": "ipython3",
   "version": "3.5.2"
  }
 },
 "nbformat": 4,
 "nbformat_minor": 1
}
